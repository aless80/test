{
 "cells": [
  {
   "cell_type": "markdown",
   "metadata": {},
   "source": [
    "<!-- HTML file automatically generated from DocOnce source (https://github.com/doconce/doconce/)\n",
    "doconce format html issue145.do.txt --execute --without_solutions --without_answers -->\n",
    "\n",
    "## Exercise 1: my first exercise\n",
    "\n",
    "Here goes a general introduction to the exercise.\n",
    "\n",
    "<table class=\"table\" border=\"1\" width=\"auto\">\n",
    "<thead>\n",
    "<tr><th align=\"center\">Begin-end directive</th> <th align=\"center\">  Behavior </th> </tr>\n",
    "</thead>\n",
    "<tbody>\n",
    "<tr><td align=\"left\">   !bsubex - !esubex      </td> <td align=\"left\">   Subexercise    </td> </tr>\n",
    "<tr><td align=\"left\">   !bans - !eans          </td> <td align=\"left\">   Answer         </td> </tr>\n",
    "<tr><td align=\"left\">   !bsol - !esol          </td> <td align=\"left\">   Solution       </td> </tr>\n",
    "<tr><td align=\"left\">   !bhint - !ehint        </td> <td align=\"left\">   Hint           </td> </tr>\n",
    "</tbody>\n",
    "</table>\n",
    "\n",
    "aaaa\n",
    "\n",
    "<table class=\"table\" border=\"1\" width=\"auto\">\n",
    "<thead>\n",
    "<tr><th align=\"center\">            Commands           </th> <th align=\"center\">                        Behavior                        </th> </tr>\n",
    "</thead>\n",
    "<tbody>\n",
    "<tr><td align=\"left\">   === Exercise/Example/..: .. ===    </td> <td align=\"left\">   Header with Exercise, Problem, Project, or Example title    </td> </tr>\n",
    "<tr><td align=\"left\">   file=                              </td> <td align=\"left\">   Answer file                                                 </td> </tr>\n",
    "<tr><td align=\"left\">   files=                             </td> <td align=\"left\">   Answer files, comma separated                               </td> </tr>\n",
    "<tr><td align=\"left\">   solution=                          </td> <td align=\"left\">   Solution file                                               </td> </tr>\n",
    "</tbody>\n",
    "</table>\n",
    "\n",
    "aaaa\n",
    "\n",
    "<table class=\"table\" border=\"1\" width=\"auto\">\n",
    "<thead>\n",
    "<tr><th align=\"center\">   Command option  </th> <th align=\"center\">              Behavior              </th> </tr>\n",
    "</thead>\n",
    "<tbody>\n",
    "<tr><td align=\"left\">   --without_answers      </td> <td align=\"left\">   Turn off output of answers              </td> </tr>\n",
    "<tr><td align=\"left\">   --without_solutions    </td> <td align=\"left\">   Turn off output of solutions            </td> </tr>\n",
    "<tr><td align=\"left\">   --answers_at_end       </td> <td align=\"left\">   Answers in the end of the document      </td> </tr>\n",
    "<tr><td align=\"left\">   --solutions_at_end     </td> <td align=\"left\">   Solutions in the end of the document    </td> </tr>\n",
    "</tbody>\n",
    "</table>\n",
    "\n",
    "aaaa\n",
    "\n",
    "<table class=\"table\" border=\"1\" width=\"auto\">\n",
    "<thead>\n",
    "<tr><th align=\"center\"> Command  </th> <th align=\"center\">             Behavior             </th> </tr>\n",
    "</thead>\n",
    "<tbody>\n",
    "<tr><td align=\"left\">   !anshide      </td> <td align=\"left\">   Hide answers until !solhide           </td> </tr>\n",
    "<tr><td align=\"left\">   !solhide      </td> <td align=\"left\">   Hide solutions until !solhide         </td> </tr>\n",
    "<tr><td align=\"left\">   !ansoff       </td> <td align=\"left\">   Restore answers' visibility           </td> </tr>\n",
    "<tr><td align=\"left\">   !soloff       </td> <td align=\"left\">   Restore solutions visibility          </td> </tr>\n",
    "<tr><td align=\"left\">   !ansdocend    </td> <td align=\"left\">   Answers in the end of the document    </td> </tr>\n",
    "<tr><td align=\"left\">   !soldocend    </td> <td align=\"left\">   Answers in the end of the document    </td> </tr>\n",
    "</tbody>\n",
    "</table>\n",
    "\n",
    "### Solutions\n",
    "\n",
    "The solution environment that can be created with `!bsol` and `!esol` allows inline"
   ]
  },
  {
   "cell_type": "markdown",
   "metadata": {},
   "source": [
    "**a)**\n",
    "Predict what this code will do"
   ]
  },
  {
   "cell_type": "markdown",
   "metadata": {},
   "source": [
    "```Python\n",
    "        a = 2\n",
    "```"
   ]
  },
  {
   "cell_type": "markdown",
   "metadata": {},
   "source": [
    "**b)**\n",
    "Modify the program so that it prints 2, 3 and 4.\n",
    "\n"
   ]
  },
  {
   "cell_type": "markdown",
   "metadata": {},
   "source": [
    "\n",
    "## bug\n",
    "**More on $\\theta$.** Here is more text following headline with math.\n",
    "\n",
    "Newcommands must also be tested in this test report:\n",
    "$\\frac{1}{2}$, ${1/2}$, $\\pmb{x}$, $\\frac{Du}{dt}$,\n",
    "both inline and in block:"
   ]
  },
  {
   "cell_type": "markdown",
   "metadata": {},
   "source": [
    "$$\n",
    "\\frac{Du}{dt} = 0\\nonumber\n",
    "$$"
   ]
  },
  {
   "cell_type": "markdown",
   "metadata": {},
   "source": [
    "<!-- Equation labels as ordinary links -->\n",
    "<div id=\"_auto1\"></div>\n",
    "\n",
    "$$\n",
    "\\begin{equation} \n",
    "\\frac{1}{2} = {1/2}\n",
    "\\label{_auto1} \\tag{1}\n",
    "\\end{equation}\n",
    "$$"
   ]
  },
  {
   "cell_type": "markdown",
   "metadata": {},
   "source": [
    "<!-- Equation labels as ordinary links -->\n",
    "<div id=\"_auto2\"></div>\n",
    "\n",
    "$$\n",
    "\\begin{equation} \n",
    "\\frac{1}{2}\\pmb{x} = \\pmb{n}\n",
    "\\label{_auto2} \\tag{2}\n",
    "\\end{equation}\n",
    "$$"
   ]
  },
  {
   "cell_type": "markdown",
   "metadata": {},
   "source": [
    "## Exercise 2: my second exercise\n",
    "\n",
    "Here goes a general introduction to the exercise."
   ]
  },
  {
   "cell_type": "markdown",
   "metadata": {},
   "source": [
    "**a)**\n",
    "Implement this difference equation in Python\n",
    "and generate a plot for values of $x$ from 1 to 10."
   ]
  },
  {
   "cell_type": "markdown",
   "metadata": {},
   "source": [
    "<!-- Equation labels as ordinary links -->\n",
    "<div id=\"_auto3\"></div>\n",
    "\n",
    "$$\n",
    "\\begin{equation}\n",
    "x_{n+1} = 1.5 x_n -20\n",
    "x_0 = 20\n",
    "\\label{_auto3} \\tag{3}\n",
    "\\end{equation}\n",
    "$$"
   ]
  },
  {
   "cell_type": "markdown",
   "metadata": {},
   "source": [
    "**b)**\n",
    "Question without code answer:\n",
    "Can you think of an example case that has this difference equation as model?\n"
   ]
  },
  {
   "cell_type": "markdown",
   "metadata": {},
   "source": [
    "**c)**\n",
    "Another question without code answer.\n"
   ]
  }
 ],
 "metadata": {
  "kernelspec": {
   "display_name": "Python 3",
   "language": "python",
   "name": "python3"
  },
  "language_info": {
   "codemirror_mode": {
    "name": "ipython",
    "version": 3
   },
   "file_extension": ".py",
   "mimetype": "text/x-python",
   "name": "python",
   "nbconvert_exporter": "python",
   "pygments_lexer": "ipython3",
   "version": "3.6.9"
  }
 },
 "nbformat": 4,
 "nbformat_minor": 4
}
