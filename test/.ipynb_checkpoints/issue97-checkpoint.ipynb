{
 "cells": [
  {
   "cell_type": "markdown",
   "metadata": {},
   "source": [
    "<!-- HTML file automatically generated from DocOnce source (https://github.com/doconce/doconce/)\n",
    "doconce format html issue97.do.txt --execute -->"
   ]
  },
  {
   "cell_type": "markdown",
   "metadata": {},
   "source": [
    "# Code blocks\n",
    "Run code blocks in different languages"
   ]
  },
  {
   "cell_type": "markdown",
   "metadata": {},
   "source": [
    "## Julia\n",
    "\n",
    "Julia code"
   ]
  },
  {
   "cell_type": "markdown",
   "metadata": {},
   "source": [
    "        var_julia = 11\n",
    "        print(var_julia)\n"
   ]
  },
  {
   "cell_type": "markdown",
   "metadata": {},
   "source": [
    "        for n = 2:4\n",
    "          var_julia = var_julia + n\n",
    "        end\n",
    "        print(var_julia)\n"
   ]
  },
  {
   "cell_type": "markdown",
   "metadata": {},
   "source": [
    "## Bash\n",
    "\n",
    "Bash code"
   ]
  },
  {
   "cell_type": "markdown",
   "metadata": {},
   "source": [
    "        if [ 1 -eq 1 ] ; then echo 1; fi\n",
    "        var_bash=10\n"
   ]
  },
  {
   "cell_type": "markdown",
   "metadata": {},
   "source": [
    "        echo $var_bash\n"
   ]
  },
  {
   "cell_type": "markdown",
   "metadata": {},
   "source": [
    "## Python\n",
    "\n",
    "Python code"
   ]
  },
  {
   "cell_type": "code",
   "execution_count": 1,
   "metadata": {},
   "outputs": [
    {
     "name": "stdout",
     "output_type": "stream",
     "text": [
      "1\n",
      "2\n",
      "3\n"
     ]
    }
   ],
   "source": [
    "for i in [1,2,3]:\n",
    "  print(i)"
   ]
  },
  {
   "cell_type": "code",
   "execution_count": 2,
   "metadata": {},
   "outputs": [
    {
     "name": "stdout",
     "output_type": "stream",
     "text": [
      "3\n"
     ]
    }
   ],
   "source": [
    "print(i)"
   ]
  },
  {
   "cell_type": "markdown",
   "metadata": {},
   "source": [
    "## R \n",
    "\n",
    "R code"
   ]
  },
  {
   "cell_type": "markdown",
   "metadata": {},
   "source": [
    "        x <- 1:3\n",
    "        print(x)\n",
    "        #pdf(\"plot.pdf\")\n",
    "        plot(x)\n",
    "        #dev.off()\n"
   ]
  },
  {
   "cell_type": "markdown",
   "metadata": {},
   "source": [
    "## Other languages\n",
    "\n",
    "Then Cython (with -h option so it is hidden in html/sphinx):"
   ]
  },
  {
   "cell_type": "markdown",
   "metadata": {},
   "source": [
    "        cpdef f(double x):\n",
    "            return x + 1\n"
   ]
  },
  {
   "cell_type": "markdown",
   "metadata": {},
   "source": [
    "Java code"
   ]
  },
  {
   "cell_type": "markdown",
   "metadata": {},
   "source": [
    "        for (int i = 0; i < 5; i++) {\n",
    "          System.out.println(i);\n",
    "        }\n"
   ]
  },
  {
   "cell_type": "markdown",
   "metadata": {},
   "source": [
    "Javascript code"
   ]
  },
  {
   "cell_type": "markdown",
   "metadata": {},
   "source": [
    "        for (var x in [0,1,2]) {console.log(x)}\n"
   ]
  },
  {
   "cell_type": "markdown",
   "metadata": {},
   "source": [
    "matlab code"
   ]
  },
  {
   "cell_type": "markdown",
   "metadata": {},
   "source": [
    "        for i = 1:2:10\n",
    "          disp(A(i))\n",
    "        end\n"
   ]
  },
  {
   "cell_type": "markdown",
   "metadata": {},
   "source": [
    "html code"
   ]
  },
  {
   "cell_type": "markdown",
   "metadata": {},
   "source": [
    "        <a href='test'></a>\n"
   ]
  },
  {
   "cell_type": "markdown",
   "metadata": {},
   "source": [
    "C code"
   ]
  },
  {
   "cell_type": "markdown",
   "metadata": {},
   "source": [
    "        #include <stdio.h>\n",
    "        \n",
    "        int main() {\n",
    "          int i;\n",
    "        \n",
    "          for (i = 1; i < 11; ++i)\n",
    "          {\n",
    "            printf(\"%d \", i);\n",
    "          }\n",
    "          return 0;\n",
    "        }\n"
   ]
  },
  {
   "cell_type": "markdown",
   "metadata": {},
   "source": [
    "<!-- Equation labels as ordinary links -->\n",
    "<div id=\"_auto1\"></div>\n",
    "\n",
    "$$\n",
    "\\begin{equation}\n",
    "\\begin{pmatrix}\n",
    "G_2 + G_3 & -G_3 & -G_2 & 0 \\\\\n",
    "-G_3 & G_3 + G_4 & 0 & -G_4 \\\\\n",
    "-G_2 & 0 & G_1 + G_2 & 0 \\\\\n",
    "0 & -G_4 & 0 & G_4\n",
    "\\end{pmatrix}\n",
    "=\n",
    "\\begin{pmatrix}\n",
    " v_1 \\\\\n",
    " v_2 \\\\\n",
    " v_3 \\\\\n",
    " v_4\n",
    "\\end{pmatrix}\n",
    "+ \\cdots \n",
    "\\label{_auto1} \\tag{1}\n",
    "\\end{equation}\n",
    "$$"
   ]
  },
  {
   "cell_type": "markdown",
   "metadata": {},
   "source": [
    "$$\n",
    "\\begin{pmatrix}\n",
    " C_5 + C_6 & -C_6 & 0 & 0 \\\\\n",
    " -C_6 & C_6 & 0 & 0 \\\\\n",
    " 0 & 0 & 0 & 0 \\\\\n",
    " 0 & 0 & 0 & 0\n",
    "\\end{pmatrix}\n",
    "  &= \\frac{d}{dt}\\begin{pmatrix}\n",
    " v_1 \\\\\n",
    " v_2 \\\\\n",
    " v_3 \\\\\n",
    " v_4\n",
    "\\end{pmatrix} +\n",
    "\\begin{pmatrix}\n",
    " 0 \\\\\n",
    " 0 \\\\\n",
    " 0 \\\\\n",
    " -i_0\n",
    "\\end{pmatrix}\n",
    "\\nonumber\n",
    "$$"
   ]
  }
 ],
 "metadata": {
  "kernelspec": {
   "display_name": "Python 3",
   "language": "python",
   "name": "python3"
  },
  "language_info": {
   "codemirror_mode": {
    "name": "ipython",
    "version": 3
   },
   "file_extension": ".py",
   "mimetype": "text/x-python",
   "name": "python",
   "nbconvert_exporter": "python",
   "pygments_lexer": "ipython3",
   "version": "3.6.9"
  }
 },
 "nbformat": 4,
 "nbformat_minor": 4
}
